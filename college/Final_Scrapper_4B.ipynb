{
 "cells": [
  {
   "cell_type": "code",
   "execution_count": 1,
   "id": "8bddde12",
   "metadata": {},
   "outputs": [],
   "source": [
    "import requests\n",
    "from bs4 import BeautifulSoup as bs\n",
    "import pandas as pd"
   ]
  },
  {
   "cell_type": "code",
   "execution_count": 2,
   "id": "194f3dd4",
   "metadata": {},
   "outputs": [],
   "source": [
    "headers = {'User-Agent': 'Mozilla/5.0 (Windows NT 10.0; Win64; x64) AppleWebKit/537.36 (KHTML, like Gecko) Chrome/89.0.4389.82 Safari/537.36'}\n"
   ]
  },
  {
   "cell_type": "code",
   "execution_count": 3,
   "id": "75aca6c4",
   "metadata": {},
   "outputs": [],
   "source": [
    "url='https://www.flipkart.com/cultsport-beats-1-85-hd-screen-320-386-600-nits-bt-calling-crown-control-tws-pairing-smartwatch/product-reviews/itm16ac4ba95f022?pid=SMWGM2AFFDTA9QBB&lid=LSTSMWGM2AFFDTA9QBBWRSSMV&marketplace=FLIPKART'"
   ]
  },
  {
   "cell_type": "code",
   "execution_count": 4,
   "id": "08f7c1e9",
   "metadata": {},
   "outputs": [
    {
     "data": {
      "text/plain": [
       "'https://www.flipkart.com/cultsport-beats-1-85-hd-screen-320-386-600-nits-bt-calling-crown-control-tws-pairing-smartwatch/product-reviews/itm16ac4ba95f022?pid=SMWGM2AFFDTA9QBB&lid=LSTSMWGM2AFFDTA9QBBWRSSMV&marketplace=FLIPKART'"
      ]
     },
     "execution_count": 4,
     "metadata": {},
     "output_type": "execute_result"
    }
   ],
   "source": [
    "url"
   ]
  },
  {
   "cell_type": "code",
   "execution_count": 5,
   "id": "56e91225",
   "metadata": {},
   "outputs": [],
   "source": [
    "page = requests.get(url)"
   ]
  },
  {
   "cell_type": "code",
   "execution_count": 6,
   "id": "b7ff7db5",
   "metadata": {},
   "outputs": [
    {
     "data": {
      "text/plain": [
       "<Response [200]>"
      ]
     },
     "execution_count": 6,
     "metadata": {},
     "output_type": "execute_result"
    }
   ],
   "source": [
    "page"
   ]
  },
  {
   "cell_type": "code",
   "execution_count": 7,
   "id": "0cb9e1be",
   "metadata": {},
   "outputs": [
    {
     "name": "stdout",
     "output_type": "stream",
     "text": [
      "<!DOCTYPE html>\n",
      "<html lang=\"en\">\n",
      " <head>\n",
      "  <link href=\"https://rukminim1.flixcart.com\" rel=\"preconnect\"/>\n",
      "  <link href=\"//static-assets-web.flixcart.com/fk-p-linchpin-web/fk-cp-zion/css/app_modules.chunk.905c37.css\" rel=\"stylesheet\"/>\n",
      "  <link href=\"//static-assets-web.flixcart.com/fk-p-linchpin-web/fk-cp-zion/css/app.chunk.4fb0ab.css\" rel=\"stylesheet\"/>\n",
      "  <meta content=\"text/html; charset=utf-8\" http-equiv=\"Content-type\"/>\n",
      "  <meta content=\"IE=Edge\" http-equiv=\"X-UA-Compatible\"/>\n",
      "  <meta content=\"102988293558\" property=\"fb:page_id\"/>\n",
      "  <meta content=\"658873552,624500995,100000233612389\" property=\"fb:admins\"/>\n",
      "  <meta content=\"noodp\" name=\"robots\"/>\n",
      "  <link href=\"https:///www/promos/new/20150528-140547-favicon-retina.ico\" rel=\"shortcut icon\"/>\n",
      "  <link href=\"/osdd.xml?v=2\" rel=\"search\" type=\"application/opensearchdescription+xml\"/>\n",
      "  <meta content=\"website\" property=\"og:type\"/>\n",
      "  <meta content=\"Flipkart.com\" name=\"og_site_name\" property=\"og:site_name\"/>\n",
      "  <link href=\"/apple-touch-icon-57x57.png\" rel=\"apple-touch-icon\" sizes=\"57x57\"/>\n",
      "  <link href=\"/apple-touch-icon-72x72.png\" rel=\"apple-touch-icon\" sizes=\"72x72\"/>\n",
      "  <link href=\"/apple-touch-icon-114x114.png\" rel=\"apple-touch-icon\" sizes=\"114x114\"/>\n",
      "  <link href=\"/apple-touch-icon-144x144.png\" rel=\"apple-touch-icon\" sizes=\"144x144\"/>\n",
      "  <link href=\"/apple-touch-icon-57x57.png\" rel=\"apple-touch-icon\"/>\n",
      "  <meta content=\"app\" name=\"twitter:card\"/>\n",
      "  <meta content=\"@flipkart\" name=\"twitter:site\"/>\n",
      "  <meta content=\"@flipkart\" name=\"twitter:creator\"/>\n",
      "  <meta content=\"Online Shopping India | Buy Mobiles, Electronics, Appliances, Clothing and More Online at Flipkart.com\" name=\"twitter:title\"/>\n",
      "  <meta content=\"Shop for electronics, apparels &amp; more using our Flipkart app Free shipping &amp; COD.\" name=\"twitter:description\"/>\n",
      "  <meta content=\"in\" name=\"twitter:app:country\"/>\n",
      "  <meta content=\"Flipkart\" name=\"al:ios:app_name\"/>\n",
      "  <meta content=\"742044692\" name=\"al:ios:app_store_id\"/>\n",
      "  <meta content=\"Flipkart\" name=\"twitter:app:name:iphone\"/>\n",
      "  <meta content=\"742044692\" name=\"twitter:app:id:iphone\"/>\n",
      "  <meta content=\"http://dl.flipkart.com/dl/home?\" name=\"twitter:app:url:iphone\"/>\n",
      "  <meta content=\"Flipkart\" name=\"twitter:app:name:ipad\"/>\n",
      "  <meta content=\"742044692\" name=\"twitter:app:id:ipad\"/>\n",
      "  <meta content=\"http://dl.flipkart.com/dl/home?\" name=\"twitter:app:url:ipad\"/>\n",
      "  <meta content=\"Flipkart\" name=\"twitter:app:name:googleplay\"/>\n",
      "  <meta content=\"com.flipkart.android\" name=\"twitter:app:id:googleplay\"/>\n",
      "  <meta content=\"http://dl.flipkart.com/dl/home?\" name=\"twitter:app:url:googleplay\"/>\n",
      "  <style>\n",
      "   #container {\n",
      "\t\t\theight: 100%;\n",
      "\t\t}\n",
      "  </style>\n",
      "  <link href=\"///fk-cp-zion/css/AllReviewsPage.chunk.9b07d6.css\" rel=\"stylesheet\"/>\n",
      "  <title>\n",
      "   Online Shopping India | Buy Mobiles, Electronics, Appliances, Clothing and More Online at Flipkart.com\n",
      "  </title>\n",
      "  <meta content=\"Online Shopping India | Buy Mobiles, Electronics, Appliances, Clothing and More Online at Flipkart.com\" name=\"og_title\" property=\"og:title\">\n",
      "   <meta content=\"F4EEB3A0AFFDD385992A06E6920C0AC3\" name=\"msvalidate.01\">\n",
      "    <!--[if IE 9 ]>\n",
      "\t<script nonce=\"13309871580341483168\">\n",
      "\t\twindow.browserVersion = 'IE9';\n",
      "\t\tdocument.documentElement.className += ' ie9';\n",
      "\t</script>\n",
      "\t<![endif]-->\n",
      "    <!--[if !IE]><!-->\n",
      "    <script nonce=\"13309871580341483168\">\n",
      "     if (/*@cc_on!@*/false) {\n",
      "\t\t\twindow.browserVersion = 'IE10';\n",
      "\t\t\tdocument.documentElement.className += ' ie10';\n",
      "\t\t}\n",
      "    </script>\n",
      "    <!--<![endif]-->\n",
      "    <script nonce=\"13309871580341483168\">\n",
      "     !function(){if(\"PerformancePaintTiming\" in window){var e=window.__perf={e:[]};e.o=new PerformanceObserver(function(n){e.e=e.e.concat(n.getEntries())});try{e.o.observe({entryTypes:[\"paint\"]})}catch(e){}}}();\n",
      "\n",
      "\t\tif (requestAnimationFrame && performance && performance.mark) {\n",
      "\t\t\trequestAnimationFrame(function () {\n",
      "\t\t\t\twindow.first_paint = performance.now();\n",
      "\t\t\t\tperformance.mark(\"first_paint\");\n",
      "\t\t\t});\n",
      "\t\t}\n",
      "\n",
      "        // web-vitals polyfill for FID\n",
      "        !function(n,e){var t,o,i,c=[],f={passive:!0,capture:!0},r=new Date,a=\"pointerup\",u=\"pointercancel\";function p(n,c){t||(t=c,o=n,i=new Date,w(e),s())}function s(){o>=0&&o<i-r&&(c.forEach(function(n){n(o,t)}),c=[])}function l(t){if(t.cancelable){var o=(t.timeStamp>1e12?new Date:performance.now())-t.timeStamp;\"pointerdown\"==t.type?function(t,o){function i(){p(t,o),r()}function c(){r()}function r(){e(a,i,f),e(u,c,f)}n(a,i,f),n(u,c,f)}(o,t):p(o,t)}}function w(n){[\"click\",\"mousedown\",\"keydown\",\"touchstart\",\"pointerdown\"].forEach(function(e){n(e,l,f)})}w(n),self.perfMetrics=self.perfMetrics||{},self.perfMetrics.onFirstInputDelay=function(n){c.push(n),s()}}(addEventListener,removeEventListener);\n",
      "    </script>\n",
      "    <script async=\"\" src=\"https://www.googletagmanager.com/gtag/js?id=AW-594691041\">\n",
      "    </script>\n",
      "    <script nonce=\"13309871580341483168\">\n",
      "     window.dataLayer = window.dataLayer || [];\n",
      "\t\tfunction gtag(){dataLayer.push(arguments)};\n",
      "\t\tgtag('js', new Date());\n",
      "    </script>\n",
      "   </meta>\n",
      "  </meta>\n",
      " </head>\n",
      " <body>\n",
      "  <div id=\"container\">\n",
      "   <div>\n",
      "    <div class=\"_1kfTjk\">\n",
      "     <div class=\"_1rH5Jn\">\n",
      "      <div class=\"_1TmfNK\">\n",
      "      </div>\n",
      "      <div class=\"_2Xfa2_\">\n",
      "       <div class=\"_3_C9Hx\">\n",
      "        <div class=\"_3qX0zy\">\n",
      "         <a href=\"/\">\n",
      "          <img alt=\"Flipkart\" class=\"_2xm1JU\" src=\"//static-assets-web.flixcart.com/fk-p-linchpin-web/fk-cp-zion/img/fk-logo_f64bb3.png\" title=\"Flipkart\" width=\"110\"/>\n",
      "         </a>\n",
      "        </div>\n",
      "       </div>\n",
      "       <div class=\"_1cmsER\">\n",
      "        <form action=\"/search\" class=\"_2M8cLY header-form-search\" method=\"GET\">\n",
      "         <div class=\"col-12-12 _2oO9oE\">\n",
      "          <div class=\"_3OO5Xc\">\n",
      "           <input autocomplete=\"off\" class=\"_3704LK\" name=\"q\" placeholder=\"Search for products, brands and more\" title=\"Search for products, brands and more\" type=\"text\" value=\"\"/>\n",
      "          </div>\n",
      "          <button class=\"L0Z3Pu\" type=\"submit\">\n",
      "           <svg class=\"\" height=\"20\" viewbox=\"0 0 17 18\" width=\"20\" xmlns=\"http://www.w3.org/2000/svg\">\n",
      "            <g fill=\"#2874F1\" fill-rule=\"evenodd\">\n",
      "             <path class=\"_34RNph\" d=\"m11.618 9.897l4.225 4.212c.092.092.101.232.02.313l-1.465 1.46c-.081.081-.221.072-.314-.02l-4.216-4.203\">\n",
      "             </path>\n",
      "             <path class=\"_34RNph\" d=\"m6.486 10.901c-2.42 0-4.381-1.956-4.381-4.368 0-2.413 1.961-4.369 4.381-4.369 2.42 0 4.381 1.956 4.381 4.369 0 2.413-1.961 4.368-4.381 4.368m0-10.835c-3.582 0-6.486 2.895-6.486 6.467 0 3.572 2.904 6.467 6.486 6.467 3.582 0 6.486-2.895 6.486-6.467 0-3.572-2.904-6.467-6.486-6.467\">\n",
      "             </path>\n",
      "            </g>\n",
      "           </svg>\n",
      "          </button>\n",
      "          <input name=\"otracker\" type=\"hidden\" value=\"search\"/>\n",
      "          <input name=\"otracker1\" type=\"hidden\" value=\"search\"/>\n",
      "          <input name=\"marketplace\" type=\"hidden\" value=\"FLIPKART\"/>\n",
      "          <input name=\"as-show\" type=\"hidden\" value=\"off\"/>\n",
      "          <input name=\"as\" type=\"hidden\" value=\"off\"/>\n",
      "         </div>\n",
      "         <ul class=\"col-12-12 _1MRYA1\">\n",
      "         </ul>\n",
      "        </form>\n",
      "       </div>\n",
      "       <div class=\"go_DOp _2errNR\">\n",
      "        <div class=\"_28p97w\">\n",
      "         <div class=\"_1psGvi _3BvnxG\">\n",
      "          <div>\n",
      "           <a class=\"_1_3w1N\" href=\"/account/login?ret=/cultsport-beats-1-85-hd-screen-320-386-600-nits-bt-calling-crown-control-tws-pairing-smartwatch/product-reviews/itm16ac4ba95f022%3Fpid%3DSMWGM2AFFDTA9QBB%26lid%3DLSTSMWGM2AFFDTA9QBBWRSSMV%26marketplace%3DFLIPKART\">\n",
      "            Login\n",
      "           </a>\n",
      "          </div>\n",
      "         </div>\n",
      "        </div>\n",
      "       </div>\n",
      "       <div class=\"go_DOp\">\n",
      "        <a class=\"_3-PJz-\" href=\"https://seller.flipkart.com/sell-online/?utm_source=fkwebsite&amp;utm_medium=websitedirect\">\n",
      "         <span>\n",
      "          Become a Seller\n",
      "         </span>\n",
      "        </a>\n",
      "       </div>\n",
      "       <div class=\"go_DOp\">\n",
      "        <div class=\"_28p97w\">\n",
      "         <div class=\"_1psGvi _3BvnxG\">\n",
      "          <div>\n",
      "           <div class=\"exehdJ\">\n",
      "            <!-- -->\n",
      "            More\n",
      "            <!-- -->\n",
      "           </div>\n",
      "          </div>\n",
      "         </div>\n",
      "         <svg class=\"zZ3yfL\" height=\"8\" viewbox=\"0 0 16 27\" width=\"4.7\" xmlns=\"http://www.w3.org/2000/svg\">\n",
      "          <path class=\"_2gTTdy\" d=\"M16 23.207L6.11 13.161 16 3.093 12.955 0 0 13.161l12.955 13.161z\" fill=\"#fff\">\n",
      "          </path>\n",
      "         </svg>\n",
      "        </div>\n",
      "       </div>\n",
      "       <div class=\"go_DOp\">\n",
      "        <div class=\"_1psGvi\">\n",
      "         <div class=\"YUhWwv\">\n",
      "          <a class=\"_3SkBxJ\" href=\"/viewcart?exploreMode=true&amp;preference=FLIPKART\">\n",
      "           <svg class=\"V3C5bO\" height=\"14\" viewbox=\"0 0 16 16\" width=\"14\" xmlns=\"http://www.w3.org/2000/svg\">\n",
      "            <path class=\"_1bS9ic\" d=\"M15.32 2.405H4.887C3 2.405 2.46.805 2.46.805L2.257.21C2.208.085 2.083 0 1.946 0H.336C.1 0-.064.24.024.46l.644 1.945L3.11 9.767c.047.137.175.23.32.23h8.418l-.493 1.958H3.768l.002.003c-.017 0-.033-.003-.05-.003-1.06 0-1.92.86-1.92 1.92s.86 1.92 1.92 1.92c.99 0 1.805-.75 1.91-1.712l5.55.076c.12.922.91 1.636 1.867 1.636 1.04 0 1.885-.844 1.885-1.885 0-.866-.584-1.593-1.38-1.814l2.423-8.832c.12-.433-.206-.86-.655-.86\" fill=\"#fff\">\n",
      "            </path>\n",
      "           </svg>\n",
      "           <span>\n",
      "            Cart\n",
      "           </span>\n",
      "          </a>\n",
      "         </div>\n",
      "        </div>\n",
      "       </div>\n",
      "      </div>\n",
      "      <div class=\"_1TmfNK\">\n",
      "      </div>\n",
      "     </div>\n",
      "     <div class=\"_1mUdNz\">\n",
      "     </div>\n",
      "    </div>\n",
      "    <div class=\"_331-kn\">\n",
      "    </div>\n",
      "    <div class=\"_2tsNFb\">\n",
      "     <div class=\"_6t1WkM _3HqJxg\">\n",
      "      <div class=\"_3E8aIl _2qUd5H\">\n",
      "       <div class=\"ZVE96X\">\n",
      "        <img src=\"//static-assets-web.flixcart.com/fk-p-linchpin-web/fk-cp-zion/img/error-500_cd3e64.png\"/>\n",
      "        <div>\n",
      "         <div class=\"_2RZvAZ\">\n",
      "          Something's not right!\n",
      "         </div>\n",
      "         <div class=\"TQY5YL\">\n",
      "          Please try again\n",
      "         </div>\n",
      "         <button class=\"_2KpZ6l vm3SEU _3dESVI\">\n",
      "          RETRY\n",
      "         </button>\n",
      "        </div>\n",
      "       </div>\n",
      "      </div>\n",
      "     </div>\n",
      "    </div>\n",
      "    <footer class=\"_3voSl0\">\n",
      "     <div class=\"_3rc_xQ\">\n",
      "      <div class=\"row\">\n",
      "       <div class=\"col gu12 _8Qljeg\">\n",
      "       </div>\n",
      "      </div>\n",
      "      <div>\n",
      "       <div class=\"_2WErco row\">\n",
      "        <div class=\"_2Brcj4\">\n",
      "         <div class=\"_3-dnWo\">\n",
      "          ABOUT\n",
      "         </div>\n",
      "         <a class=\"_1arVWX\" href=\"/helpcentre?otracker=undefined_footer_navlinks\">\n",
      "          Contact Us\n",
      "         </a>\n",
      "         <a class=\"_1arVWX\" href=\"/about-us?otracker=undefined_footer_navlinks\">\n",
      "          About Us\n",
      "         </a>\n",
      "         <a class=\"_1arVWX\" href=\"https://www.flipkartcareers.com/?otracker=undefined_footer_navlinks\">\n",
      "          Careers\n",
      "         </a>\n",
      "         <a class=\"_1arVWX\" href=\"http://stories.flipkart.com/?otracker=undefined_footer_navlinks\">\n",
      "          Flipkart Stories\n",
      "         </a>\n",
      "         <a class=\"_1arVWX\" href=\"/s/press?otracker=undefined_footer_navlinks\">\n",
      "          Press\n",
      "         </a>\n",
      "         <a class=\"_1arVWX\" href=\"https://www.flipkartwholesale.com/?otracker=undefined_footer_navlinks\" rel=\"noopener noreferrer\" target=\"_blank\">\n",
      "          Flipkart Wholesale\n",
      "         </a>\n",
      "         <a class=\"_1arVWX\" href=\"/corporate-information\">\n",
      "          Corporate Information\n",
      "         </a>\n",
      "        </div>\n",
      "        <div class=\"_2Brcj4\">\n",
      "         <div class=\"_3-dnWo\">\n",
      "          HELP\n",
      "         </div>\n",
      "         <a class=\"_1arVWX\" href=\"/pages/payments\">\n",
      "          Payments\n",
      "         </a>\n",
      "         <a class=\"_1arVWX\" href=\"/pages/shipping\">\n",
      "          Shipping\n",
      "         </a>\n",
      "         <a class=\"_1arVWX\" href=\"/helpcentre?catalog=55c9c6edb000002e002c1701&amp;view=CATALOG\">\n",
      "          Cancellation &amp; Returns\n",
      "         </a>\n",
      "         <a class=\"_1arVWX\" href=\"/helpcentre?catalog=55c9c8e2b0000023002c1702&amp;view=CATALOG\">\n",
      "          FAQ\n",
      "         </a>\n",
      "         <a class=\"_1arVWX\" href=\"https://seller.flipkart.com/fiv?otracker=undefined_footer_navlinks\">\n",
      "          Report Infringement\n",
      "         </a>\n",
      "        </div>\n",
      "        <div class=\"_2Brcj4\">\n",
      "         <div class=\"_3-dnWo\">\n",
      "          CONSUMER POLICY\n",
      "         </div>\n",
      "         <a class=\"_1arVWX\" href=\"/pages/returnpolicy?otracker=undefined_footer_navlinks\">\n",
      "          Return Policy\n",
      "         </a>\n",
      "         <a class=\"_1arVWX\" href=\"/pages/terms?otracker=undefined_footer_navlinks\">\n",
      "          Terms Of Use\n",
      "         </a>\n",
      "         <a class=\"_1arVWX\" href=\"/pages/paymentsecurity?otracker=undefined_footer_navlinks\">\n",
      "          Security\n",
      "         </a>\n",
      "         <a class=\"_1arVWX\" href=\"/pages/privacypolicy?otracker=undefined_footer_navlinks\">\n",
      "          Privacy\n",
      "         </a>\n",
      "         <a class=\"_1arVWX\" href=\"/sitemap?otracker=undefined_footer_navlinks\">\n",
      "          Sitemap\n",
      "         </a>\n",
      "         <a class=\"_1arVWX\" href=\"/pages/grievance-redressal-mechanism?otracker=undefined_footer_navlinks\">\n",
      "          Grievance Redressal\n",
      "         </a>\n",
      "         <a class=\"_1arVWX\" href=\"/pages/ewaste-compliance-tnc?otracker=undefined_footer_navlinks\">\n",
      "          EPR Compliance\n",
      "         </a>\n",
      "        </div>\n",
      "        <div class=\"_2Brcj4\">\n",
      "         <div class=\"_3-dnWo\">\n",
      "          SOCIAL\n",
      "         </div>\n",
      "         <a class=\"_1arVWX\" href=\"https://www.facebook.com/flipkart\">\n",
      "          Facebook\n",
      "         </a>\n",
      "         <a class=\"_1arVWX\" href=\"https://www.twitter.com/flipkart\">\n",
      "          Twitter\n",
      "         </a>\n",
      "         <a class=\"_1arVWX\" href=\"https://www.youtube.com/flipkart\">\n",
      "          YouTube\n",
      "         </a>\n",
      "        </div>\n",
      "        <div class=\"_2Brcj4 address\">\n",
      "         <div class=\"_3JHi0r\">\n",
      "          <div class=\"_3-dnWo\">\n",
      "           <span>\n",
      "            Mail Us:\n",
      "           </span>\n",
      "          </div>\n",
      "          <div class=\"_1U1qnR\">\n",
      "           <div class=\"_1LJS6T\">\n",
      "            <div class=\"_2NKhZn _1U1qnR\">\n",
      "             <p>\n",
      "              Flipkart Internet Private Limited,\n",
      "             </p>\n",
      "             <p>\n",
      "              Buildings Alyssa, Begonia &amp;\n",
      "             </p>\n",
      "             <p>\n",
      "              Clove Embassy Tech Village,\n",
      "             </p>\n",
      "             <p>\n",
      "              Outer Ring Road, Devarabeesanahalli Village,\n",
      "             </p>\n",
      "             <p>\n",
      "              Bengaluru, 560103,\n",
      "             </p>\n",
      "             <p>\n",
      "              Karnataka, India\n",
      "             </p>\n",
      "            </div>\n",
      "           </div>\n",
      "          </div>\n",
      "         </div>\n",
      "        </div>\n",
      "        <div class=\"_2Brcj4 address\">\n",
      "         <div class=\"_3IT4e6\">\n",
      "          <div class=\"_3-dnWo\">\n",
      "           <span>\n",
      "            Registered Office Address:\n",
      "           </span>\n",
      "          </div>\n",
      "          <div class=\"_1U1qnR\">\n",
      "           <div class=\"_1LJS6T\">\n",
      "            <div class=\"_2NKhZn _1U1qnR\">\n",
      "             <p>\n",
      "              Flipkart Internet Private Limited,\n",
      "             </p>\n",
      "             <p>\n",
      "              Buildings Alyssa, Begonia &amp;\n",
      "             </p>\n",
      "             <p>\n",
      "              Clove Embassy Tech Village,\n",
      "             </p>\n",
      "             <p>\n",
      "              Outer Ring Road, Devarabeesanahalli Village,\n",
      "             </p>\n",
      "             <p>\n",
      "              Bengaluru, 560103,\n",
      "             </p>\n",
      "             <p>\n",
      "              Karnataka, India\n",
      "             </p>\n",
      "             <p>\n",
      "              CIN : U51109KA2012PTC066107\n",
      "             </p>\n",
      "             <p>\n",
      "              Telephone:\n",
      "              <a href=\"tel:044-45614700\">\n",
      "               044-45614700\n",
      "              </a>\n",
      "             </p>\n",
      "            </div>\n",
      "           </div>\n",
      "          </div>\n",
      "         </div>\n",
      "        </div>\n",
      "       </div>\n",
      "       <div>\n",
      "        <div class=\"_2uz0vJ\">\n",
      "         <div>\n",
      "          <img src=\"data:image/svg+xml;base64,PHN2ZyB4bWxucz0iaHR0cDovL3d3dy53My5vcmcvMjAwMC9zdmciIHdpZHRoPSIxNiIgaGVpZ2h0PSIxNSIgdmlld0JveD0iMCAwIDE2IDE1Ij4KICAgIDxkZWZzPgogICAgICAgIDxsaW5lYXJHcmFkaWVudCBpZD0iYSIgeDE9IjAlIiB4Mj0iODYuODc2JSIgeTE9IjAlIiB5Mj0iODAuMjAyJSI+CiAgICAgICAgICAgIDxzdG9wIG9mZnNldD0iMCUiIHN0b3AtY29sb3I9IiNGRkQ4MDAiLz4KICAgICAgICAgICAgPHN0b3Agb2Zmc2V0PSIxMDAlIiBzdG9wLWNvbG9yPSIjRkZBRjAwIi8+CiAgICAgICAgPC9saW5lYXJHcmFkaWVudD4KICAgIDwvZGVmcz4KICAgIDxnIGZpbGw9Im5vbmUiIGZpbGwtcnVsZT0iZXZlbm9kZCI+CiAgICAgICAgPHBhdGggZD0iTS0yLTJoMjB2MjBILTJ6Ii8+CiAgICAgICAgPHBhdGggZmlsbD0idXJsKCNhKSIgZmlsbC1ydWxlPSJub256ZXJvIiBkPSJNMTUuOTMgNS42MTRoLTIuOTQ4VjQuMTRjMC0uODE4LS42NTUtMS40NzMtMS40NzMtMS40NzNIOC41NmMtLjgxNyAwLTEuNDczLjY1NS0xLjQ3MyAxLjQ3M3YxLjQ3NEg0LjE0Yy0uODE4IDAtMS40NjYuNjU2LTEuNDY2IDEuNDc0bC0uMDA3IDguMTA1YzAgLjgxOC42NTUgMS40NzQgMS40NzMgMS40NzRoMTEuNzljLjgxOCAwIDEuNDc0LS42NTYgMS40NzQtMS40NzRWNy4wODhjMC0uODE4LS42NTYtMS40NzQtMS40NzQtMS40NzR6bS00LjQyMSAwSDguNTZWNC4xNGgyLjk0OHYxLjQ3NHoiIHRyYW5zZm9ybT0idHJhbnNsYXRlKC0yIC0yKSIvPgogICAgPC9nPgo8L3N2Zz4K\"/>\n",
      "          <a href=\"https://seller.flipkart.com/?utm_source=fkwebsite&amp;utm_medium=websitedirect\">\n",
      "           <span class=\"hDTmm5\">\n",
      "            Become a Seller\n",
      "           </span>\n",
      "          </a>\n",
      "         </div>\n",
      "         <div>\n",
      "          <img src=\"data:image/svg+xml;base64,PHN2ZyB4bWxucz0iaHR0cDovL3d3dy53My5vcmcvMjAwMC9zdmciIHdpZHRoPSIxNSIgaGVpZ2h0PSIxNSIgdmlld0JveD0iMCAwIDE1IDE1Ij4KICAgIDxkZWZzPgogICAgICAgIDxsaW5lYXJHcmFkaWVudCBpZD0iYSIgeDE9IjAlIiB4Mj0iODYuODc2JSIgeTE9IjAlIiB5Mj0iODAuMjAyJSI+CiAgICAgICAgICAgIDxzdG9wIG9mZnNldD0iMCUiIHN0b3AtY29sb3I9IiNGRkQ4MDAiLz4KICAgICAgICAgICAgPHN0b3Agb2Zmc2V0PSIxMDAlIiBzdG9wLWNvbG9yPSIjRkZBRjAwIi8+CiAgICAgICAgPC9saW5lYXJHcmFkaWVudD4KICAgIDwvZGVmcz4KICAgIDxnIGZpbGw9Im5vbmUiIGZpbGwtcnVsZT0iZXZlbm9kZCI+CiAgICAgICAgPHBhdGggZD0iTS0zLTNoMjB2MjBILTN6Ii8+CiAgICAgICAgPHBhdGggZmlsbD0idXJsKCNhKSIgZmlsbC1ydWxlPSJub256ZXJvIiBkPSJNMTAuNDkyIDNDNi4zNTMgMyAzIDYuMzYgMyAxMC41YzAgNC4xNCAzLjM1MyA3LjUgNy40OTIgNy41QzE0LjY0IDE4IDE4IDE0LjY0IDE4IDEwLjUgMTggNi4zNiAxNC42NCAzIDEwLjQ5MiAzem0zLjE4IDEyTDEwLjUgMTMuMDg4IDcuMzI3IDE1bC44NC0zLjYwN0w1LjM3IDguOTdsMy42OS0uMzE1TDEwLjUgNS4yNWwxLjQ0IDMuMzk4IDMuNjkuMzE1LTIuNzk4IDIuNDIyLjg0IDMuNjE1eiIgdHJhbnNmb3JtPSJ0cmFuc2xhdGUoLTMgLTMpIi8+CiAgICA8L2c+Cjwvc3ZnPgo=\"/>\n",
      "          <a href=\"https://brands.flipkart.com\">\n",
      "           <span class=\"hDTmm5\">\n",
      "            Advertise\n",
      "           </span>\n",
      "          </a>\n",
      "         </div>\n",
      "         <div>\n",
      "          <img src=\"data:image/svg+xml;base64,PHN2ZyB4bWxucz0iaHR0cDovL3d3dy53My5vcmcvMjAwMC9zdmciIHdpZHRoPSIxOCIgaGVpZ2h0PSIxNyIgdmlld0JveD0iMCAwIDE4IDE3Ij4KICAgIDxkZWZzPgogICAgICAgIDxsaW5lYXJHcmFkaWVudCBpZD0iYSIgeDE9IjAlIiB4Mj0iODYuODc2JSIgeTE9IjAlIiB5Mj0iODAuMjAyJSI+CiAgICAgICAgICAgIDxzdG9wIG9mZnNldD0iMCUiIHN0b3AtY29sb3I9IiNGRkQ4MDAiLz4KICAgICAgICAgICAgPHN0b3Agb2Zmc2V0PSIxMDAlIiBzdG9wLWNvbG9yPSIjRkZBRjAwIi8+CiAgICAgICAgPC9saW5lYXJHcmFkaWVudD4KICAgIDwvZGVmcz4KICAgIDxnIGZpbGw9Im5vbmUiIGZpbGwtcnVsZT0iZXZlbm9kZCI+CiAgICAgICAgPHBhdGggZD0iTS0xLTFoMjB2MjBILTF6Ii8+CiAgICAgICAgPHBhdGggZmlsbD0idXJsKCNhKSIgZmlsbC1ydWxlPSJub256ZXJvIiBkPSJNMTYuNjY3IDVIMTQuODVjLjA5Mi0uMjU4LjE1LS41NDIuMTUtLjgzM2EyLjQ5NyAyLjQ5NyAwIDAgMC00LjU4My0xLjM3NUwxMCAzLjM1bC0uNDE3LS41NjdBMi41MSAyLjUxIDAgMCAwIDcuNSAxLjY2N2EyLjQ5NyAyLjQ5NyAwIDAgMC0yLjUgMi41YzAgLjI5MS4wNTguNTc1LjE1LjgzM0gzLjMzM2MtLjkyNSAwLTEuNjU4Ljc0Mi0xLjY1OCAxLjY2N2wtLjAwOCA5LjE2NkExLjY2IDEuNjYgMCAwIDAgMy4zMzMgMTcuNWgxMy4zMzRhMS42NiAxLjY2IDAgMCAwIDEuNjY2LTEuNjY3VjYuNjY3QTEuNjYgMS42NiAwIDAgMCAxNi42NjcgNXptMCA2LjY2N0gzLjMzM3YtNWg0LjIzNEw1LjgzMyA5LjAyNWwxLjM1Ljk3NSAxLjk4NC0yLjdMMTAgNi4xNjdsLjgzMyAxLjEzMyAxLjk4NCAyLjcgMS4zNS0uOTc1LTEuNzM0LTIuMzU4aDQuMjM0djV6IiB0cmFuc2Zvcm09InRyYW5zbGF0ZSgtMSAtMSkiLz4KICAgIDwvZz4KPC9zdmc+Cg==\"/>\n",
      "          <a href=\"/the-gift-card-store?otracker=undefined_footer_footer_navlinks\">\n",
      "           <span class=\"hDTmm5\">\n",
      "            Gift Cards\n",
      "           </span>\n",
      "          </a>\n",
      "         </div>\n",
      "         <div>\n",
      "          <img src=\"data:image/svg+xml;base64,PHN2ZyB4bWxucz0iaHR0cDovL3d3dy53My5vcmcvMjAwMC9zdmciIHdpZHRoPSIxNSIgaGVpZ2h0PSIxNSIgdmlld0JveD0iMCAwIDE1IDE1Ij4KICAgIDxkZWZzPgogICAgICAgIDxsaW5lYXJHcmFkaWVudCBpZD0iYSIgeDE9IjAlIiB4Mj0iODYuODc2JSIgeTE9IjAlIiB5Mj0iODAuMjAyJSI+CiAgICAgICAgICAgIDxzdG9wIG9mZnNldD0iMCUiIHN0b3AtY29sb3I9IiNGRkQ4MDAiLz4KICAgICAgICAgICAgPHN0b3Agb2Zmc2V0PSIxMDAlIiBzdG9wLWNvbG9yPSIjRkZBRjAwIi8+CiAgICAgICAgPC9saW5lYXJHcmFkaWVudD4KICAgIDwvZGVmcz4KICAgIDxnIGZpbGw9Im5vbmUiIGZpbGwtcnVsZT0iZXZlbm9kZCI+CiAgICAgICAgPHBhdGggZD0iTS0yLTNoMjB2MjBILTJ6Ii8+CiAgICAgICAgPHBhdGggZmlsbD0idXJsKCNhKSIgZmlsbC1ydWxlPSJub256ZXJvIiBkPSJNOS41IDNDNS4zNiAzIDIgNi4zNiAyIDEwLjUgMiAxNC42NCA1LjM2IDE4IDkuNSAxOGM0LjE0IDAgNy41LTMuMzYgNy41LTcuNUMxNyA2LjM2IDEzLjY0IDMgOS41IDN6bS43NSAxMi43NWgtMS41di0xLjVoMS41djEuNXptMS41NTMtNS44MTNsLS42NzYuNjljLS41NC41NDgtLjg3Ny45OTgtLjg3NyAyLjEyM2gtMS41di0uMzc1YzAtLjgyNS4zMzgtMS41NzUuODc3LTIuMTIzbC45My0uOTQ1Yy4yNzgtLjI3LjQ0My0uNjQ1LjQ0My0xLjA1NyAwLS44MjUtLjY3NS0xLjUtMS41LTEuNVM4IDcuNDI1IDggOC4yNUg2LjVhMyAzIDAgMSAxIDYgMGMwIC42Ni0uMjcgMS4yNi0uNjk3IDEuNjg4eiIgdHJhbnNmb3JtPSJ0cmFuc2xhdGUoLTIgLTMpIi8+CiAgICA8L2c+Cjwvc3ZnPgo=\"/>\n",
      "          <a href=\"/helpcentre?otracker=undefined_footer_footer_navlinks\">\n",
      "           <span class=\"hDTmm5\">\n",
      "            Help Center\n",
      "           </span>\n",
      "          </a>\n",
      "         </div>\n",
      "         <span class=\"z3ht-w\">\n",
      "          © 2007-\n",
      "          <!-- -->\n",
      "          2023\n",
      "          <!-- -->\n",
      "          <span>\n",
      "           Flipkart.com\n",
      "          </span>\n",
      "         </span>\n",
      "         <img src=\"//static-assets-web.flixcart.com/fk-p-linchpin-web/fk-cp-zion/img/payment-method_69e7ec.svg\"/>\n",
      "        </div>\n",
      "       </div>\n",
      "      </div>\n",
      "     </div>\n",
      "    </footer>\n",
      "    <div class=\"_1EcK2J _38JCdA\">\n",
      "     <div class=\"bra6U8\">\n",
      "      <svg class=\"_2TdLiZ\" height=\"27\" viewbox=\"0 0 16 27\" width=\"16\" xmlns=\"http://www.w3.org/2000/svg\">\n",
      "       <path class=\"_3ZKfA2\" d=\"M16 23.207L6.11 13.161 16 3.093 12.955 0 0 13.161l12.955 13.161z\" fill=\"#fff\">\n",
      "       </path>\n",
      "      </svg>\n",
      "      <span>\n",
      "       Back to top\n",
      "      </span>\n",
      "     </div>\n",
      "    </div>\n",
      "   </div>\n",
      "  </div>\n",
      "  <script id=\"jsonLD\" nonce=\"13309871580341483168\" type=\"application/ld+json\">\n",
      "   {}\n",
      "  </script>\n",
      "  <script id=\"jsonLD\" nonce=\"13309871580341483168\" type=\"application/ld+json\">\n",
      "   {}\n",
      "  </script>\n",
      "  <script nonce=\"13309871580341483168\" type=\"application/ld+json\">\n",
      "   {\n",
      "    \"@context\": \"http://schema.org\",\n",
      "    \"@type\": \"WebSite\",\n",
      "    \"url\": \"http://www.flipkart.com/\",\n",
      "    \"potentialAction\": [{\n",
      "        \"@type\": \"SearchAction\",\n",
      "        \"target\": \"http://www.flipkart.com/search?q={search_term_string}\",\n",
      "        \"query-input\": \"required name=search_term_string\"\n",
      "        },{\n",
      "        \"@type\": \"SearchAction\",\n",
      "        \"target\": \"android-app://com.flipkart.android/flipkart/de_sq_seg_-search.flipkart.com-_{search_term_string}\",\n",
      "        \"query-input\": \"required name=search_term_string\"\n",
      "    }]\n",
      "}\n",
      "  </script>\n",
      "  <script id=\"is_script\" nonce=\"13309871580341483168\">\n",
      "   window.__INITIAL_STATE__ = {};\n",
      "  </script>\n",
      "  <link data-chunk=\"NavMenu\" href=\"//static-assets-web.flixcart.com/fk-p-linchpin-web/fk-cp-zion/css/NavMenu.chunk.10ffe7.css\" rel=\"stylesheet\"/>\n",
      "  <script id=\"__LOADABLE_REQUIRED_CHUNKS__\" type=\"application/json\">\n",
      "   [121]\n",
      "  </script>\n",
      "  <script id=\"__LOADABLE_REQUIRED_CHUNKS___ext\" type=\"application/json\">\n",
      "   {\"namedChunks\":[\"NavMenu\"]}\n",
      "  </script>\n",
      "  <script async=\"\" data-chunk=\"NavMenu\" src=\"//static-assets-web.flixcart.com/fk-p-linchpin-web/fk-cp-zion/js/NavMenu.chunk.3a120f66.js\">\n",
      "  </script>\n",
      "  <script nonce=\"13309871580341483168\">\n",
      "   window.omniture={tpv:[],tl:[]};window.omniture.trackPageView=function(){window.omniture.tpv.push(arguments)};window.omniture.trackLink=function(){window.omniture.tl.push(arguments)}\n",
      "\n",
      "    if(window.location.host === 'www.flipkart.com' || /\\.store\\.flipkart\\.com/i.test(window.location.host)){\n",
      "        window.s_account = \"flipkart-prd\"; //omniture account id\n",
      "    }else{\n",
      "        window.s_account = \"flipkart-prd-test\";\n",
      "    }\n",
      "    window.s_isDesktop = true;\n",
      "  </script>\n",
      "  <script nonce=\"13309871580341483168\">\n",
      "   function isMobile(){\n",
      "\t\tif (!!(navigator.userAgentData && navigator.userAgentData.mobile) || navigator.userAgent.indexOf(\"Mobile\") !== -1){\n",
      "\t\t\treturn true;\n",
      "\t\t}\n",
      "\t\telse {\n",
      "\t\t\treturn false;\n",
      "\t\t}\n",
      "\t}\n",
      "\n",
      "\tif ('serviceWorker' in navigator && !isMobile()) {\n",
      "\t\tnavigator.serviceWorker.register('/sw.js').then(function(registration) {\n",
      "\t\t\tconsole.log('ServiceWorker registration successful with scope: ', registration.scope);\n",
      "\t\t\tnavigator.onLine && navigator.serviceWorker.controller && navigator.serviceWorker.controller.postMessage('BANDWIDTH_COMPUTE');\n",
      "\t\t\tnavigator.serviceWorker.addEventListener('message', function (event) {\n",
      "\t\t\t\ttry {\n",
      "\t\t\t\t\tconst bandwidthData = JSON.parse(event.data);\n",
      "\t\t\t\t\tif (bandwidthData && bandwidthData.data) {\n",
      "\t\t\t\t\t\twindow.bandwidth = bandwidthData.data.downlink + '_' + bandwidthData.data.computeMethod + '_' + bandwidthData.data.effectiveType + '_' + bandwidthData.data.type;\n",
      "\t\t\t\t\t}\n",
      "\t\t\t\t}catch(err) {\n",
      "\t\t\t\t\tconsole.error('JSON.parse failed:', err);\n",
      "\t\t\t\t}\n",
      "\t\t\t});\n",
      "\t\t})\n",
      "\t\t.catch(function(err) {\n",
      "\t\t\tconsole.error('ServiceWorker registration failed: ', err);\n",
      "\t\t});\n",
      "\t} else if('serviceWorker' in navigator && isMobile()){\n",
      "        navigator.serviceWorker.getRegistration().then(function(registration) {\n",
      "            var serviceWorkerUnregistered=false;\n",
      "            if(registration) {\n",
      "                registration.unregister();\n",
      "                serviceWorkerUnregistered=true;\n",
      "            }\n",
      "            serviceWorkerUnregistered && window.location.reload();\n",
      "        });\n",
      "    }\n",
      "  </script>\n",
      "  <script async=\"\" defer=\"defer\" id=\"omni_script\" nonce=\"13309871580341483168\" src=\"///www/linchpin/batman-returns/omni/omni16.js\">\n",
      "  </script>\n",
      "  <script nonce=\"13309871580341483168\">\n",
      "   window._pxAppId = 'PXgNtTli3A';\n",
      "  </script>\n",
      "  <script async=\"\" nonce=\"13309871580341483168\" src=\"///px/gNtTli3A/init.js\">\n",
      "  </script>\n",
      " </body>\n",
      "</html>\n"
     ]
    }
   ],
   "source": [
    "soup = bs(page.content,'html.parser')\n",
    "print(soup.prettify())"
   ]
  },
  {
   "cell_type": "code",
   "execution_count": 34,
   "id": "90771327",
   "metadata": {},
   "outputs": [],
   "source": [
    "names=soup.find_all('p', class_='_2sc7ZR _2V5EHH')"
   ]
  },
  {
   "cell_type": "code",
   "execution_count": 35,
   "id": "235d3d84",
   "metadata": {},
   "outputs": [
    {
     "data": {
      "text/plain": [
       "[]"
      ]
     },
     "execution_count": 35,
     "metadata": {},
     "output_type": "execute_result"
    }
   ],
   "source": [
    "names"
   ]
  },
  {
   "cell_type": "code",
   "execution_count": 10,
   "id": "6b43ba3b",
   "metadata": {},
   "outputs": [],
   "source": [
    "cust_name=[]\n",
    "for i in range(0, len(names)):\n",
    "    cust_name.append(names[i].get_text())"
   ]
  },
  {
   "cell_type": "code",
   "execution_count": 11,
   "id": "22f2633c",
   "metadata": {},
   "outputs": [
    {
     "name": "stdout",
     "output_type": "stream",
     "text": [
      "[]\n"
     ]
    }
   ],
   "source": [
    "def cus_data(soup):\n",
    "    # find the Html tag\n",
    "    # with find()\n",
    "    # and convert into string\n",
    "    data_str = \"\"\n",
    "    cus_list = []\n",
    "  \n",
    "    for item in soup.find_all(\"p\", class_=\"_2sc7ZR _2V5EHH\"):\n",
    "        data_str = data_str + item.get_text()\n",
    "        cus_list.append(data_str)\n",
    "        data_str = \"\"\n",
    "    return cus_list\n",
    "\n",
    "cus_res = cus_data(soup)\n",
    "print(cus_res)"
   ]
  },
  {
   "cell_type": "code",
   "execution_count": 12,
   "id": "44572316",
   "metadata": {},
   "outputs": [
    {
     "data": {
      "text/plain": [
       "[]"
      ]
     },
     "execution_count": 12,
     "metadata": {},
     "output_type": "execute_result"
    }
   ],
   "source": [
    "cust_name"
   ]
  },
  {
   "cell_type": "code",
   "execution_count": 13,
   "id": "f7d22b4d",
   "metadata": {},
   "outputs": [],
   "source": [
    "# Getting desired data from our parsed soup\n",
    "reviews = soup.find_all('div', class_=\"t-ZTKy\")"
   ]
  },
  {
   "cell_type": "code",
   "execution_count": 14,
   "id": "e1d85806",
   "metadata": {},
   "outputs": [
    {
     "data": {
      "text/plain": [
       "[]"
      ]
     },
     "execution_count": 14,
     "metadata": {},
     "output_type": "execute_result"
    }
   ],
   "source": [
    "reviews"
   ]
  },
  {
   "cell_type": "code",
   "execution_count": 15,
   "id": "aa3c414e",
   "metadata": {},
   "outputs": [],
   "source": [
    "reviews1=[]\n",
    "for i in range(0, len(reviews)):\n",
    "    reviews1.append(reviews[i].get_text())"
   ]
  },
  {
   "cell_type": "code",
   "execution_count": 16,
   "id": "ca820e7f",
   "metadata": {},
   "outputs": [
    {
     "data": {
      "text/plain": [
       "[]"
      ]
     },
     "execution_count": 16,
     "metadata": {},
     "output_type": "execute_result"
    }
   ],
   "source": [
    "reviews1"
   ]
  },
  {
   "cell_type": "code",
   "execution_count": 17,
   "id": "a535996b",
   "metadata": {},
   "outputs": [],
   "source": [
    "title=soup.find_all('p', class_=\"_2-N8zT\")"
   ]
  },
  {
   "cell_type": "code",
   "execution_count": 18,
   "id": "d9a8e45a",
   "metadata": {},
   "outputs": [
    {
     "data": {
      "text/plain": [
       "[]"
      ]
     },
     "execution_count": 18,
     "metadata": {},
     "output_type": "execute_result"
    }
   ],
   "source": [
    "title"
   ]
  },
  {
   "cell_type": "code",
   "execution_count": 19,
   "id": "109725c6",
   "metadata": {},
   "outputs": [],
   "source": [
    "title1=[]\n",
    "for i in range(0, len(title)):\n",
    "    title1.append(title[i].get_text())"
   ]
  },
  {
   "cell_type": "code",
   "execution_count": 20,
   "id": "fde9a5e2",
   "metadata": {},
   "outputs": [
    {
     "data": {
      "text/plain": [
       "[]"
      ]
     },
     "execution_count": 20,
     "metadata": {},
     "output_type": "execute_result"
    }
   ],
   "source": [
    "title1"
   ]
  },
  {
   "cell_type": "code",
   "execution_count": 21,
   "id": "297deb08",
   "metadata": {},
   "outputs": [],
   "source": [
    "ratings=soup.find_all('div', class_=\"_3LWZlK _1BLPMq\")"
   ]
  },
  {
   "cell_type": "code",
   "execution_count": 22,
   "id": "4e34047d",
   "metadata": {},
   "outputs": [
    {
     "data": {
      "text/plain": [
       "[]"
      ]
     },
     "execution_count": 22,
     "metadata": {},
     "output_type": "execute_result"
    }
   ],
   "source": [
    "ratings"
   ]
  },
  {
   "cell_type": "code",
   "execution_count": 23,
   "id": "e59132ea",
   "metadata": {},
   "outputs": [],
   "source": [
    "ratings1=[]\n",
    "for i in range(0, len(ratings)):\n",
    "    ratings1.append(ratings[i].get_text())"
   ]
  },
  {
   "cell_type": "code",
   "execution_count": 24,
   "id": "db5ad0e0",
   "metadata": {},
   "outputs": [
    {
     "data": {
      "text/plain": [
       "[]"
      ]
     },
     "execution_count": 24,
     "metadata": {},
     "output_type": "execute_result"
    }
   ],
   "source": [
    "ratings1"
   ]
  },
  {
   "cell_type": "code",
   "execution_count": 25,
   "id": "344342e4",
   "metadata": {},
   "outputs": [],
   "source": [
    "comments=soup.find_all('div', class_=\"t-ZTKy\")"
   ]
  },
  {
   "cell_type": "code",
   "execution_count": 26,
   "id": "9684fea7",
   "metadata": {},
   "outputs": [
    {
     "data": {
      "text/plain": [
       "[]"
      ]
     },
     "execution_count": 26,
     "metadata": {},
     "output_type": "execute_result"
    }
   ],
   "source": [
    "comments"
   ]
  },
  {
   "cell_type": "code",
   "execution_count": 27,
   "id": "ca2f3d92",
   "metadata": {},
   "outputs": [],
   "source": [
    "comments1=[]\n",
    "for i in range(0, len(comments)):\n",
    "    comments1.append(comments[i].get_text())"
   ]
  },
  {
   "cell_type": "code",
   "execution_count": 28,
   "id": "24a7d91b",
   "metadata": {},
   "outputs": [
    {
     "data": {
      "text/plain": [
       "[]"
      ]
     },
     "execution_count": 28,
     "metadata": {},
     "output_type": "execute_result"
    }
   ],
   "source": [
    "comments1"
   ]
  },
  {
   "cell_type": "code",
   "execution_count": 29,
   "id": "61b40ba8",
   "metadata": {},
   "outputs": [],
   "source": [
    "data=[]"
   ]
  },
  {
   "cell_type": "code",
   "execution_count": 30,
   "id": "4a6661ea",
   "metadata": {},
   "outputs": [],
   "source": [
    "import pandas as pd\n",
    "df = pd.DataFrame()"
   ]
  },
  {
   "cell_type": "code",
   "execution_count": 31,
   "id": "adff40f1",
   "metadata": {},
   "outputs": [],
   "source": [
    "df['cust_name']=cust_name\n",
    "df['title']=title1\n",
    "df['ratings']=ratings1\n",
    "df['comments']=comments1"
   ]
  },
  {
   "cell_type": "code",
   "execution_count": 32,
   "id": "52280dff",
   "metadata": {},
   "outputs": [
    {
     "data": {
      "text/html": [
       "<div>\n",
       "<style scoped>\n",
       "    .dataframe tbody tr th:only-of-type {\n",
       "        vertical-align: middle;\n",
       "    }\n",
       "\n",
       "    .dataframe tbody tr th {\n",
       "        vertical-align: top;\n",
       "    }\n",
       "\n",
       "    .dataframe thead th {\n",
       "        text-align: right;\n",
       "    }\n",
       "</style>\n",
       "<table border=\"1\" class=\"dataframe\">\n",
       "  <thead>\n",
       "    <tr style=\"text-align: right;\">\n",
       "      <th></th>\n",
       "      <th>cust_name</th>\n",
       "      <th>title</th>\n",
       "      <th>ratings</th>\n",
       "      <th>comments</th>\n",
       "    </tr>\n",
       "  </thead>\n",
       "  <tbody>\n",
       "  </tbody>\n",
       "</table>\n",
       "</div>"
      ],
      "text/plain": [
       "Empty DataFrame\n",
       "Columns: [cust_name, title, ratings, comments]\n",
       "Index: []"
      ]
     },
     "execution_count": 32,
     "metadata": {},
     "output_type": "execute_result"
    }
   ],
   "source": [
    "df"
   ]
  },
  {
   "cell_type": "code",
   "execution_count": 33,
   "id": "90416de9",
   "metadata": {},
   "outputs": [],
   "source": [
    "# Save results to a dataframe, then export as CSV\n",
    "df.to_csv('smartwatch.csv', index=False)"
   ]
  },
  {
   "cell_type": "code",
   "execution_count": null,
   "id": "ccb32631",
   "metadata": {},
   "outputs": [],
   "source": []
  }
 ],
 "metadata": {
  "kernelspec": {
   "display_name": "Python 3 (ipykernel)",
   "language": "python",
   "name": "python3"
  },
  "language_info": {
   "codemirror_mode": {
    "name": "ipython",
    "version": 3
   },
   "file_extension": ".py",
   "mimetype": "text/x-python",
   "name": "python",
   "nbconvert_exporter": "python",
   "pygments_lexer": "ipython3",
   "version": "3.10.9"
  }
 },
 "nbformat": 4,
 "nbformat_minor": 5
}
